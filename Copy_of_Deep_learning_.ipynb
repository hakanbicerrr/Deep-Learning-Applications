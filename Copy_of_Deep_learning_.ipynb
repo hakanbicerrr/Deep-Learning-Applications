{
  "nbformat": 4,
  "nbformat_minor": 0,
  "metadata": {
    "colab": {
      "name": "Copy of Deep_learning_.ipynb",
      "provenance": [],
      "collapsed_sections": []
    },
    "kernelspec": {
      "display_name": "Python 3",
      "name": "python3"
    },
    "language_info": {
      "name": "python"
    }
  },
  "cells": [
    {
      "cell_type": "code",
      "metadata": {
        "id": "mZtno-xIN6rL"
      },
      "source": [
        "import os\n",
        "import cv2\n",
        "from skimage.feature import daisy\n",
        "from scipy.spatial import distance\n",
        "import numpy as np\n",
        "from scipy import stats\n",
        "from google.colab.patches import cv2_imshow"
      ],
      "execution_count": null,
      "outputs": []
    },
    {
      "cell_type": "markdown",
      "metadata": {
        "id": "EB-bm8vJQnbP"
      },
      "source": [
        "Read Images From Train"
      ]
    },
    {
      "cell_type": "code",
      "metadata": {
        "colab": {
          "base_uri": "https://localhost:8080/"
        },
        "id": "wLIvRji2KrJz",
        "outputId": "8ed8aa25-5f62-4a16-b00f-3dae153a3bf3"
      },
      "source": [
        "descs_train = []\n",
        "label_train = []\n",
        "label = 0\n",
        "label_names = []\n",
        "root_folder = \"drive/MyDrive/Deep_Learning/HW1/train/\"\n",
        "for foldername in os.listdir(root_folder):\n",
        "  print(\"Folders:\", foldername)\n",
        "  for filename in os.listdir(root_folder + foldername):\n",
        "    if filename.endswith(\"jpg\"): \n",
        "        image = cv2.imread(os.path.join(root_folder,foldername,filename),0)\n",
        "        if image is not None:\n",
        "                descs = daisy(image, step=180, radius=58, rings=2, histograms=256, orientations=8, visualize=False)\n",
        "                descs = np.ravel(descs)\n",
        "                descs_train.append(descs[:4104])\n",
        "                label_train.append(label)\n",
        "  label += 1\n",
        "  label_names.append(foldername)\n",
        "# Check lengths are matched.  \n",
        "print(\"Number of images for train: \", len(label_train))\n",
        "print(\"Labels: \", label_names)"
      ],
      "execution_count": null,
      "outputs": [
        {
          "output_type": "stream",
          "name": "stdout",
          "text": [
            "Folders: laptop\n",
            "Folders: chair\n",
            "Folders: butterfly\n",
            "Number of images for train:  225\n",
            "Labels:  ['laptop', 'chair', 'butterfly']\n"
          ]
        }
      ]
    },
    {
      "cell_type": "markdown",
      "metadata": {
        "id": "B5WrcPEUV_TO"
      },
      "source": [
        "Read Images From Test"
      ]
    },
    {
      "cell_type": "code",
      "metadata": {
        "id": "kjQDrmSgV-1V"
      },
      "source": [
        "test_images = []\n",
        "descs_test = []\n",
        "file_names = []\n",
        "root_folder = \"drive/MyDrive/Deep_Learning/HW1/test/\"\n",
        "for filename in os.listdir(root_folder):\n",
        "    if filename.endswith(\"jpg\"): \n",
        "        image = cv2.imread(os.path.join(root_folder,filename),0)\n",
        "        file_names.append(filename)\n",
        "        if image is not None:\n",
        "                test_images.append(image)\n",
        "                descs = daisy(image, step=180, radius=58, rings=2, histograms=256, orientations=8, visualize=False)\n",
        "                descs = np.ravel(descs)\n",
        "                descs_test.append(descs[:4104])"
      ],
      "execution_count": null,
      "outputs": []
    },
    {
      "cell_type": "markdown",
      "metadata": {
        "id": "cpr9NClCvoBh"
      },
      "source": [
        "Ready to use kNN Function"
      ]
    },
    {
      "cell_type": "code",
      "metadata": {
        "colab": {
          "base_uri": "https://localhost:8080/",
          "height": 52
        },
        "id": "eDLzgPXKu5sn",
        "outputId": "6f0885b6-ff02-43d3-e97c-1b6b798c1178"
      },
      "source": [
        "\"\"\"\n",
        "def KNN(x_train, y_train, sample_test, k):\n",
        "  from sklearn.neighbors import KNeighborsClassifier\n",
        "  classifier = KNeighborsClassifier(n_neighbors=k, metric=\"minkowski\", p=3)\n",
        "  classifier.fit(x_train, y_train)\n",
        "  y_pred = classifier.predict(sample_test)\n",
        "  #print(y_pred)\n",
        "  return y_pred\n",
        "\"\"\""
      ],
      "execution_count": null,
      "outputs": [
        {
          "output_type": "execute_result",
          "data": {
            "application/vnd.google.colaboratory.intrinsic+json": {
              "type": "string"
            },
            "text/plain": [
              "'\\ndef KNN(x_train, y_train, sample_test, k):\\n  from sklearn.neighbors import KNeighborsClassifier\\n  classifier = KNeighborsClassifier(n_neighbors=k, metric=\"minkowski\", p=3)\\n  classifier.fit(x_train, y_train)\\n  y_pred = classifier.predict(sample_test)\\n  #print(y_pred)\\n  return y_pred\\n'"
            ]
          },
          "metadata": {},
          "execution_count": 4
        }
      ]
    },
    {
      "cell_type": "markdown",
      "metadata": {
        "id": "xU7sghSNUpHT"
      },
      "source": [
        "My Own kNN Function for Minkowski Distance"
      ]
    },
    {
      "cell_type": "code",
      "metadata": {
        "id": "W5GWKNZTIIKG"
      },
      "source": [
        "def KNN(x_train, y_train, sample_test, k):\n",
        "  dist_list = []\n",
        "  result = []\n",
        "  for i in range(len(x_train)):\n",
        "    dist = distance.minkowski(x_train[i], sample_test, p=3)\n",
        "    dist_list.append(dist)\n",
        "  index_sorted = np.argsort(dist_list)[:k]\n",
        "  for i in index_sorted:\n",
        "    result.append(y_train[i])\n",
        "  print(\"7 Nearest Neighbour Classes:\",result)\n",
        "  return stats.mode(result)[0]"
      ],
      "execution_count": null,
      "outputs": []
    },
    {
      "cell_type": "code",
      "metadata": {
        "colab": {
          "base_uri": "https://localhost:8080/"
        },
        "id": "lQirMF-jwyhA",
        "outputId": "fa81971e-27d6-4c98-e5ce-96e674acaf54"
      },
      "source": [
        "classes = []\n",
        "for i in range(len(descs_test)):\n",
        "  result_class = KNN(descs_train, label_train, descs_test[i], 7)\n",
        "  classes.append(label_names[int(result_class)])\n",
        "for i in range(len(file_names)):\n",
        "  print(\"{}:{}\".format(file_names[i], classes[i]))\n",
        "print(\"Result Classes of Test Images:\", classes)"
      ],
      "execution_count": null,
      "outputs": [
        {
          "output_type": "stream",
          "name": "stdout",
          "text": [
            "7 Nearest Neighbour Classes: [0, 1, 2, 2, 0, 2, 2]\n",
            "7 Nearest Neighbour Classes: [2, 2, 2, 1, 2, 2, 2]\n",
            "7 Nearest Neighbour Classes: [2, 2, 2, 1, 1, 2, 1]\n",
            "7 Nearest Neighbour Classes: [2, 2, 0, 2, 1, 2, 2]\n",
            "7 Nearest Neighbour Classes: [1, 0, 0, 1, 0, 0, 1]\n",
            "7 Nearest Neighbour Classes: [2, 1, 2, 2, 1, 1, 0]\n",
            "7 Nearest Neighbour Classes: [0, 0, 0, 0, 0, 0, 0]\n",
            "7 Nearest Neighbour Classes: [0, 0, 0, 2, 1, 1, 0]\n",
            "7 Nearest Neighbour Classes: [0, 1, 1, 0, 0, 0, 0]\n",
            "image_0013.jpg:butterfly\n",
            "image_0010.jpg:butterfly\n",
            "image_0031.jpg:butterfly\n",
            "image_0008.jpg:butterfly\n",
            "image_0014.jpg:laptop\n",
            "image_0001.jpg:chair\n",
            "image_0007.jpg:laptop\n",
            "image_0073.jpg:laptop\n",
            "image_0074.jpg:laptop\n",
            "Result Classes of Test Images: ['butterfly', 'butterfly', 'butterfly', 'butterfly', 'laptop', 'chair', 'laptop', 'laptop', 'laptop']\n"
          ]
        }
      ]
    },
    {
      "cell_type": "markdown",
      "metadata": {
        "id": "MokQ08ygYd0v"
      },
      "source": [
        "My Own kNN Function for Mahalanobis Distance\n"
      ]
    },
    {
      "cell_type": "markdown",
      "metadata": {
        "id": "KgpHLEuGUi7B"
      },
      "source": [
        "I choose descriptor lenghts as 1000. Because calculation of mahalanobis distance takes a lot of time. Therefore, I couldn't use length as 4104. "
      ]
    },
    {
      "cell_type": "code",
      "metadata": {
        "id": "8ggtHD9XYcR6"
      },
      "source": [
        "def KNN(x_train, y_train, sample_test, k):\n",
        "  dist_list = []\n",
        "  result = []\n",
        "  for i in range(len(x_train)):\n",
        "    cov_matrix = np.cov(np.array([x_train[i][:1000], sample_test[:1000]]).T)\n",
        "    try:\n",
        "      dist = distance.mahalanobis(x_train[i][:1000], sample_test[:1000], np.linalg.inv(cov_matrix))\n",
        "    except:\n",
        "      dist = distance.mahalanobis(x_train[i][:1000], sample_test[:1000], np.linalg.pinv(cov_matrix))\n",
        "    dist_list.append(dist)\n",
        "  index_sorted = np.argsort(dist_list)[:k]\n",
        "  for i in index_sorted:\n",
        "    result.append(y_train[i])\n",
        "  print(\"7 Nearest Neighbour Classes:\",result)\n",
        "  return stats.mode(result)[0]"
      ],
      "execution_count": null,
      "outputs": []
    },
    {
      "cell_type": "code",
      "metadata": {
        "colab": {
          "base_uri": "https://localhost:8080/"
        },
        "id": "SAuCwzvXZGEc",
        "outputId": "b97ccc5b-3d9b-4cd6-af8c-9368b64e2b2e"
      },
      "source": [
        "classes = []\n",
        "for i in range(len(descs_test)):\n",
        "  result_class = KNN(descs_train, label_train, descs_test[i], 7)\n",
        "  classes.append(label_names[int(result_class)])\n",
        "for i in range(len(file_names)):\n",
        "  print(\"{}:{}\".format(file_names[i], classes[i]))\n",
        "print(\"Result Classes of Test Images:\", classes)"
      ],
      "execution_count": null,
      "outputs": [
        {
          "output_type": "stream",
          "name": "stdout",
          "text": [
            "7 Nearest Neighbour Classes: [0, 2, 2, 2, 2, 1, 2]\n",
            "7 Nearest Neighbour Classes: [1, 0, 0, 0, 2, 2, 0]\n",
            "7 Nearest Neighbour Classes: [2, 0, 2, 2, 2, 0, 1]\n",
            "7 Nearest Neighbour Classes: [0, 2, 2, 1, 0, 2, 1]\n",
            "7 Nearest Neighbour Classes: [2, 0, 0, 2, 0, 0, 0]\n",
            "7 Nearest Neighbour Classes: [1, 0, 0, 1, 1, 1, 2]\n",
            "7 Nearest Neighbour Classes: [0, 0, 0, 0, 0, 1, 2]\n",
            "7 Nearest Neighbour Classes: [0, 0, 2, 2, 2, 0, 0]\n",
            "7 Nearest Neighbour Classes: [2, 2, 1, 0, 1, 2, 2]\n",
            "image_0013.jpg:butterfly\n",
            "image_0010.jpg:laptop\n",
            "image_0031.jpg:butterfly\n",
            "image_0008.jpg:butterfly\n",
            "image_0014.jpg:laptop\n",
            "image_0001.jpg:chair\n",
            "image_0007.jpg:laptop\n",
            "image_0073.jpg:laptop\n",
            "image_0074.jpg:butterfly\n",
            "Result Classes of Test Images: ['butterfly', 'laptop', 'butterfly', 'butterfly', 'laptop', 'chair', 'laptop', 'laptop', 'butterfly']\n"
          ]
        }
      ]
    }
  ]
}