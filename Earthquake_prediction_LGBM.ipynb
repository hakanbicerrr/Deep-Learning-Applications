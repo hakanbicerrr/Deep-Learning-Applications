{
  "nbformat": 4,
  "nbformat_minor": 0,
  "metadata": {
    "colab": {
      "name": "HW6.ipynb",
      "provenance": []
    },
    "kernelspec": {
      "name": "python3",
      "display_name": "Python 3"
    },
    "language_info": {
      "name": "python"
    }
  },
  "cells": [
    {
      "cell_type": "code",
      "execution_count": null,
      "metadata": {
        "id": "GcTQIpALUUSl"
      },
      "outputs": [],
      "source": [
        "import numpy                as np\n",
        "import pandas               as pd"
      ]
    },
    {
      "cell_type": "code",
      "source": [
        "import os\n",
        "for dirname, _, filenames in os.walk('drive/MyDrive/Deep_Learning/HW6/'):\n",
        "    for filename in filenames:\n",
        "        print(os.path.join(dirname, filename))"
      ],
      "metadata": {
        "colab": {
          "base_uri": "https://localhost:8080/"
        },
        "id": "VuBDr9vSU1UK",
        "outputId": "813588a9-1613-4a71-a93e-6fdaba3e2583"
      },
      "execution_count": null,
      "outputs": [
        {
          "output_type": "stream",
          "name": "stdout",
          "text": [
            "drive/MyDrive/Deep_Learning/HW6/Catalogue.csv\n"
          ]
        }
      ]
    },
    {
      "cell_type": "code",
      "source": [
        "data  = pd.read_csv(\"Catalogue.csv\", encoding='latin-1')"
      ],
      "metadata": {
        "id": "s02Pk_4oU8Av"
      },
      "execution_count": null,
      "outputs": []
    },
    {
      "cell_type": "code",
      "source": [
        "data.shape"
      ],
      "metadata": {
        "colab": {
          "base_uri": "https://localhost:8080/"
        },
        "id": "JaiolKe0Z3cs",
        "outputId": "41860a40-2a07-4354-9d58-71b8fc2afe71"
      },
      "execution_count": null,
      "outputs": [
        {
          "output_type": "execute_result",
          "data": {
            "text/plain": [
              "(12201, 15)"
            ]
          },
          "metadata": {},
          "execution_count": 15
        }
      ]
    },
    {
      "cell_type": "code",
      "source": [
        "type(data)"
      ],
      "metadata": {
        "colab": {
          "base_uri": "https://localhost:8080/"
        },
        "id": "UfqvF3BoZ7bK",
        "outputId": "8ceb01c0-dffa-4ae9-df93-ff20a2d98f2b"
      },
      "execution_count": null,
      "outputs": [
        {
          "output_type": "execute_result",
          "data": {
            "text/plain": [
              "pandas.core.frame.DataFrame"
            ]
          },
          "metadata": {},
          "execution_count": 16
        }
      ]
    },
    {
      "cell_type": "code",
      "source": [
        "data.head()"
      ],
      "metadata": {
        "colab": {
          "base_uri": "https://localhost:8080/",
          "height": 206
        },
        "id": "EeZAT3qZZ9gA",
        "outputId": "ce15b6ed-0ec1-40a1-b2fc-34bdb0282fcb"
      },
      "execution_count": null,
      "outputs": [
        {
          "output_type": "execute_result",
          "data": {
            "text/html": [
              "\n",
              "  <div id=\"df-0a4bebec-6d4a-416b-a92f-f226c28b1374\">\n",
              "    <div class=\"colab-df-container\">\n",
              "      <div>\n",
              "<style scoped>\n",
              "    .dataframe tbody tr th:only-of-type {\n",
              "        vertical-align: middle;\n",
              "    }\n",
              "\n",
              "    .dataframe tbody tr th {\n",
              "        vertical-align: top;\n",
              "    }\n",
              "\n",
              "    .dataframe thead th {\n",
              "        text-align: right;\n",
              "    }\n",
              "</style>\n",
              "<table border=\"1\" class=\"dataframe\">\n",
              "  <thead>\n",
              "    <tr style=\"text-align: right;\">\n",
              "      <th></th>\n",
              "      <th>No</th>\n",
              "      <th>Zaman (UTC)</th>\n",
              "      <th>Ref1</th>\n",
              "      <th>Kaynak Aç?klama 1</th>\n",
              "      <th>Enlem</th>\n",
              "      <th>Boylam</th>\n",
              "      <th>Derinlik</th>\n",
              "      <th>Sabit Derinlik</th>\n",
              "      <th>Kaynak No 2</th>\n",
              "      <th>Kaynak Aç?klama 2</th>\n",
              "      <th>Tip</th>\n",
              "      <th>Büyüklük</th>\n",
              "      <th>Kaynak No 3</th>\n",
              "      <th>Kaynak Aç?klama 3</th>\n",
              "      <th>Yer</th>\n",
              "    </tr>\n",
              "  </thead>\n",
              "  <tbody>\n",
              "    <tr>\n",
              "      <th>0</th>\n",
              "      <td>0</td>\n",
              "      <td>2021-06-17 00:35:16</td>\n",
              "      <td>0</td>\n",
              "      <td></td>\n",
              "      <td>35.7380</td>\n",
              "      <td>24.8870</td>\n",
              "      <td>37.50</td>\n",
              "      <td>-</td>\n",
              "      <td>7</td>\n",
              "      <td>AFAD-DDA</td>\n",
              "      <td>Mw</td>\n",
              "      <td>4.0</td>\n",
              "      <td>7</td>\n",
              "      <td>AFAD-DDA</td>\n",
              "      <td>-</td>\n",
              "    </tr>\n",
              "    <tr>\n",
              "      <th>1</th>\n",
              "      <td>0</td>\n",
              "      <td>2021-06-07 16:00:19</td>\n",
              "      <td>0</td>\n",
              "      <td></td>\n",
              "      <td>36.4261</td>\n",
              "      <td>27.0918</td>\n",
              "      <td>18.97</td>\n",
              "      <td>-</td>\n",
              "      <td>7</td>\n",
              "      <td>AFAD-DDA</td>\n",
              "      <td>Mw</td>\n",
              "      <td>4.1</td>\n",
              "      <td>7</td>\n",
              "      <td>AFAD-DDA</td>\n",
              "      <td>-</td>\n",
              "    </tr>\n",
              "    <tr>\n",
              "      <th>2</th>\n",
              "      <td>0</td>\n",
              "      <td>2021-06-04 20:23:10</td>\n",
              "      <td>0</td>\n",
              "      <td></td>\n",
              "      <td>36.4461</td>\n",
              "      <td>27.1643</td>\n",
              "      <td>11.09</td>\n",
              "      <td>-</td>\n",
              "      <td>7</td>\n",
              "      <td>AFAD-DDA</td>\n",
              "      <td>Mw</td>\n",
              "      <td>4.1</td>\n",
              "      <td>7</td>\n",
              "      <td>AFAD-DDA</td>\n",
              "      <td>-</td>\n",
              "    </tr>\n",
              "    <tr>\n",
              "      <th>3</th>\n",
              "      <td>0</td>\n",
              "      <td>2021-06-02 06:14:27</td>\n",
              "      <td>0</td>\n",
              "      <td></td>\n",
              "      <td>37.5625</td>\n",
              "      <td>36.1321</td>\n",
              "      <td>14.37</td>\n",
              "      <td>-</td>\n",
              "      <td>7</td>\n",
              "      <td>AFAD-DDA</td>\n",
              "      <td>Mw</td>\n",
              "      <td>4.2</td>\n",
              "      <td>7</td>\n",
              "      <td>AFAD-DDA</td>\n",
              "      <td>-</td>\n",
              "    </tr>\n",
              "    <tr>\n",
              "      <th>4</th>\n",
              "      <td>0</td>\n",
              "      <td>2021-05-31 06:23:39</td>\n",
              "      <td>0</td>\n",
              "      <td></td>\n",
              "      <td>35.3220</td>\n",
              "      <td>32.8156</td>\n",
              "      <td>25.63</td>\n",
              "      <td>-</td>\n",
              "      <td>7</td>\n",
              "      <td>AFAD-DDA</td>\n",
              "      <td>ML</td>\n",
              "      <td>4.3</td>\n",
              "      <td>7</td>\n",
              "      <td>AFAD-DDA</td>\n",
              "      <td>-</td>\n",
              "    </tr>\n",
              "  </tbody>\n",
              "</table>\n",
              "</div>\n",
              "      <button class=\"colab-df-convert\" onclick=\"convertToInteractive('df-0a4bebec-6d4a-416b-a92f-f226c28b1374')\"\n",
              "              title=\"Convert this dataframe to an interactive table.\"\n",
              "              style=\"display:none;\">\n",
              "        \n",
              "  <svg xmlns=\"http://www.w3.org/2000/svg\" height=\"24px\"viewBox=\"0 0 24 24\"\n",
              "       width=\"24px\">\n",
              "    <path d=\"M0 0h24v24H0V0z\" fill=\"none\"/>\n",
              "    <path d=\"M18.56 5.44l.94 2.06.94-2.06 2.06-.94-2.06-.94-.94-2.06-.94 2.06-2.06.94zm-11 1L8.5 8.5l.94-2.06 2.06-.94-2.06-.94L8.5 2.5l-.94 2.06-2.06.94zm10 10l.94 2.06.94-2.06 2.06-.94-2.06-.94-.94-2.06-.94 2.06-2.06.94z\"/><path d=\"M17.41 7.96l-1.37-1.37c-.4-.4-.92-.59-1.43-.59-.52 0-1.04.2-1.43.59L10.3 9.45l-7.72 7.72c-.78.78-.78 2.05 0 2.83L4 21.41c.39.39.9.59 1.41.59.51 0 1.02-.2 1.41-.59l7.78-7.78 2.81-2.81c.8-.78.8-2.07 0-2.86zM5.41 20L4 18.59l7.72-7.72 1.47 1.35L5.41 20z\"/>\n",
              "  </svg>\n",
              "      </button>\n",
              "      \n",
              "  <style>\n",
              "    .colab-df-container {\n",
              "      display:flex;\n",
              "      flex-wrap:wrap;\n",
              "      gap: 12px;\n",
              "    }\n",
              "\n",
              "    .colab-df-convert {\n",
              "      background-color: #E8F0FE;\n",
              "      border: none;\n",
              "      border-radius: 50%;\n",
              "      cursor: pointer;\n",
              "      display: none;\n",
              "      fill: #1967D2;\n",
              "      height: 32px;\n",
              "      padding: 0 0 0 0;\n",
              "      width: 32px;\n",
              "    }\n",
              "\n",
              "    .colab-df-convert:hover {\n",
              "      background-color: #E2EBFA;\n",
              "      box-shadow: 0px 1px 2px rgba(60, 64, 67, 0.3), 0px 1px 3px 1px rgba(60, 64, 67, 0.15);\n",
              "      fill: #174EA6;\n",
              "    }\n",
              "\n",
              "    [theme=dark] .colab-df-convert {\n",
              "      background-color: #3B4455;\n",
              "      fill: #D2E3FC;\n",
              "    }\n",
              "\n",
              "    [theme=dark] .colab-df-convert:hover {\n",
              "      background-color: #434B5C;\n",
              "      box-shadow: 0px 1px 3px 1px rgba(0, 0, 0, 0.15);\n",
              "      filter: drop-shadow(0px 1px 2px rgba(0, 0, 0, 0.3));\n",
              "      fill: #FFFFFF;\n",
              "    }\n",
              "  </style>\n",
              "\n",
              "      <script>\n",
              "        const buttonEl =\n",
              "          document.querySelector('#df-0a4bebec-6d4a-416b-a92f-f226c28b1374 button.colab-df-convert');\n",
              "        buttonEl.style.display =\n",
              "          google.colab.kernel.accessAllowed ? 'block' : 'none';\n",
              "\n",
              "        async function convertToInteractive(key) {\n",
              "          const element = document.querySelector('#df-0a4bebec-6d4a-416b-a92f-f226c28b1374');\n",
              "          const dataTable =\n",
              "            await google.colab.kernel.invokeFunction('convertToInteractive',\n",
              "                                                     [key], {});\n",
              "          if (!dataTable) return;\n",
              "\n",
              "          const docLinkHtml = 'Like what you see? Visit the ' +\n",
              "            '<a target=\"_blank\" href=https://colab.research.google.com/notebooks/data_table.ipynb>data table notebook</a>'\n",
              "            + ' to learn more about interactive tables.';\n",
              "          element.innerHTML = '';\n",
              "          dataTable['output_type'] = 'display_data';\n",
              "          await google.colab.output.renderOutput(dataTable, element);\n",
              "          const docLink = document.createElement('div');\n",
              "          docLink.innerHTML = docLinkHtml;\n",
              "          element.appendChild(docLink);\n",
              "        }\n",
              "      </script>\n",
              "    </div>\n",
              "  </div>\n",
              "  "
            ],
            "text/plain": [
              "   No          Zaman (UTC)  Ref1  ... Kaynak No 3  Kaynak Aç?klama 3  Yer\n",
              "0   0  2021-06-17 00:35:16     0  ...           7           AFAD-DDA    -\n",
              "1   0  2021-06-07 16:00:19     0  ...           7           AFAD-DDA    -\n",
              "2   0  2021-06-04 20:23:10     0  ...           7           AFAD-DDA    -\n",
              "3   0  2021-06-02 06:14:27     0  ...           7           AFAD-DDA    -\n",
              "4   0  2021-05-31 06:23:39     0  ...           7           AFAD-DDA    -\n",
              "\n",
              "[5 rows x 15 columns]"
            ]
          },
          "metadata": {},
          "execution_count": 17
        }
      ]
    },
    {
      "cell_type": "code",
      "source": [
        "enlem = data[\"Enlem\"]\n",
        "boylam = data[\"Boylam\"]\n",
        "derinlik = data[\"Derinlik\"]"
      ],
      "metadata": {
        "id": "lUra1RGaabMu"
      },
      "execution_count": null,
      "outputs": []
    },
    {
      "cell_type": "code",
      "source": [
        "büyüklük = data[\"Büyüklük\"]"
      ],
      "metadata": {
        "id": "4ZQgTh8IbJjH"
      },
      "execution_count": null,
      "outputs": []
    },
    {
      "cell_type": "code",
      "source": [
        "feature_vector = []"
      ],
      "metadata": {
        "id": "NOhgvUYhajaX"
      },
      "execution_count": null,
      "outputs": []
    },
    {
      "cell_type": "code",
      "source": [
        "avg = (enlem + boylam)/2\n",
        "avg.head()"
      ],
      "metadata": {
        "colab": {
          "base_uri": "https://localhost:8080/"
        },
        "id": "-G1GYxp3amb-",
        "outputId": "b3242a76-24f6-465d-eb3f-50c5627b674c"
      },
      "execution_count": null,
      "outputs": [
        {
          "output_type": "execute_result",
          "data": {
            "text/plain": [
              "0    30.31250\n",
              "1    31.75895\n",
              "2    31.80520\n",
              "3    36.84730\n",
              "4    34.06880\n",
              "dtype: float64"
            ]
          },
          "metadata": {},
          "execution_count": 27
        }
      ]
    },
    {
      "cell_type": "code",
      "source": [
        "concat = pd.concat([enlem,boylam],axis=1)\n",
        "concat"
      ],
      "metadata": {
        "colab": {
          "base_uri": "https://localhost:8080/",
          "height": 424
        },
        "id": "gMPVvqvlbr74",
        "outputId": "ba466e92-d3f0-4d49-f10c-2013a5bb9884"
      },
      "execution_count": null,
      "outputs": [
        {
          "output_type": "execute_result",
          "data": {
            "text/html": [
              "\n",
              "  <div id=\"df-af093b31-2b29-4fd1-9152-07909ea83aab\">\n",
              "    <div class=\"colab-df-container\">\n",
              "      <div>\n",
              "<style scoped>\n",
              "    .dataframe tbody tr th:only-of-type {\n",
              "        vertical-align: middle;\n",
              "    }\n",
              "\n",
              "    .dataframe tbody tr th {\n",
              "        vertical-align: top;\n",
              "    }\n",
              "\n",
              "    .dataframe thead th {\n",
              "        text-align: right;\n",
              "    }\n",
              "</style>\n",
              "<table border=\"1\" class=\"dataframe\">\n",
              "  <thead>\n",
              "    <tr style=\"text-align: right;\">\n",
              "      <th></th>\n",
              "      <th>Enlem</th>\n",
              "      <th>Boylam</th>\n",
              "    </tr>\n",
              "  </thead>\n",
              "  <tbody>\n",
              "    <tr>\n",
              "      <th>0</th>\n",
              "      <td>35.7380</td>\n",
              "      <td>24.8870</td>\n",
              "    </tr>\n",
              "    <tr>\n",
              "      <th>1</th>\n",
              "      <td>36.4261</td>\n",
              "      <td>27.0918</td>\n",
              "    </tr>\n",
              "    <tr>\n",
              "      <th>2</th>\n",
              "      <td>36.4461</td>\n",
              "      <td>27.1643</td>\n",
              "    </tr>\n",
              "    <tr>\n",
              "      <th>3</th>\n",
              "      <td>37.5625</td>\n",
              "      <td>36.1321</td>\n",
              "    </tr>\n",
              "    <tr>\n",
              "      <th>4</th>\n",
              "      <td>35.3220</td>\n",
              "      <td>32.8156</td>\n",
              "    </tr>\n",
              "    <tr>\n",
              "      <th>...</th>\n",
              "      <td>...</td>\n",
              "      <td>...</td>\n",
              "    </tr>\n",
              "    <tr>\n",
              "      <th>12196</th>\n",
              "      <td>38.1200</td>\n",
              "      <td>31.2900</td>\n",
              "    </tr>\n",
              "    <tr>\n",
              "      <th>12197</th>\n",
              "      <td>37.8300</td>\n",
              "      <td>27.7100</td>\n",
              "    </tr>\n",
              "    <tr>\n",
              "      <th>12198</th>\n",
              "      <td>37.6300</td>\n",
              "      <td>37.3700</td>\n",
              "    </tr>\n",
              "    <tr>\n",
              "      <th>12199</th>\n",
              "      <td>39.5400</td>\n",
              "      <td>26.1400</td>\n",
              "    </tr>\n",
              "    <tr>\n",
              "      <th>12200</th>\n",
              "      <td>37.7900</td>\n",
              "      <td>28.2100</td>\n",
              "    </tr>\n",
              "  </tbody>\n",
              "</table>\n",
              "<p>12201 rows × 2 columns</p>\n",
              "</div>\n",
              "      <button class=\"colab-df-convert\" onclick=\"convertToInteractive('df-af093b31-2b29-4fd1-9152-07909ea83aab')\"\n",
              "              title=\"Convert this dataframe to an interactive table.\"\n",
              "              style=\"display:none;\">\n",
              "        \n",
              "  <svg xmlns=\"http://www.w3.org/2000/svg\" height=\"24px\"viewBox=\"0 0 24 24\"\n",
              "       width=\"24px\">\n",
              "    <path d=\"M0 0h24v24H0V0z\" fill=\"none\"/>\n",
              "    <path d=\"M18.56 5.44l.94 2.06.94-2.06 2.06-.94-2.06-.94-.94-2.06-.94 2.06-2.06.94zm-11 1L8.5 8.5l.94-2.06 2.06-.94-2.06-.94L8.5 2.5l-.94 2.06-2.06.94zm10 10l.94 2.06.94-2.06 2.06-.94-2.06-.94-.94-2.06-.94 2.06-2.06.94z\"/><path d=\"M17.41 7.96l-1.37-1.37c-.4-.4-.92-.59-1.43-.59-.52 0-1.04.2-1.43.59L10.3 9.45l-7.72 7.72c-.78.78-.78 2.05 0 2.83L4 21.41c.39.39.9.59 1.41.59.51 0 1.02-.2 1.41-.59l7.78-7.78 2.81-2.81c.8-.78.8-2.07 0-2.86zM5.41 20L4 18.59l7.72-7.72 1.47 1.35L5.41 20z\"/>\n",
              "  </svg>\n",
              "      </button>\n",
              "      \n",
              "  <style>\n",
              "    .colab-df-container {\n",
              "      display:flex;\n",
              "      flex-wrap:wrap;\n",
              "      gap: 12px;\n",
              "    }\n",
              "\n",
              "    .colab-df-convert {\n",
              "      background-color: #E8F0FE;\n",
              "      border: none;\n",
              "      border-radius: 50%;\n",
              "      cursor: pointer;\n",
              "      display: none;\n",
              "      fill: #1967D2;\n",
              "      height: 32px;\n",
              "      padding: 0 0 0 0;\n",
              "      width: 32px;\n",
              "    }\n",
              "\n",
              "    .colab-df-convert:hover {\n",
              "      background-color: #E2EBFA;\n",
              "      box-shadow: 0px 1px 2px rgba(60, 64, 67, 0.3), 0px 1px 3px 1px rgba(60, 64, 67, 0.15);\n",
              "      fill: #174EA6;\n",
              "    }\n",
              "\n",
              "    [theme=dark] .colab-df-convert {\n",
              "      background-color: #3B4455;\n",
              "      fill: #D2E3FC;\n",
              "    }\n",
              "\n",
              "    [theme=dark] .colab-df-convert:hover {\n",
              "      background-color: #434B5C;\n",
              "      box-shadow: 0px 1px 3px 1px rgba(0, 0, 0, 0.15);\n",
              "      filter: drop-shadow(0px 1px 2px rgba(0, 0, 0, 0.3));\n",
              "      fill: #FFFFFF;\n",
              "    }\n",
              "  </style>\n",
              "\n",
              "      <script>\n",
              "        const buttonEl =\n",
              "          document.querySelector('#df-af093b31-2b29-4fd1-9152-07909ea83aab button.colab-df-convert');\n",
              "        buttonEl.style.display =\n",
              "          google.colab.kernel.accessAllowed ? 'block' : 'none';\n",
              "\n",
              "        async function convertToInteractive(key) {\n",
              "          const element = document.querySelector('#df-af093b31-2b29-4fd1-9152-07909ea83aab');\n",
              "          const dataTable =\n",
              "            await google.colab.kernel.invokeFunction('convertToInteractive',\n",
              "                                                     [key], {});\n",
              "          if (!dataTable) return;\n",
              "\n",
              "          const docLinkHtml = 'Like what you see? Visit the ' +\n",
              "            '<a target=\"_blank\" href=https://colab.research.google.com/notebooks/data_table.ipynb>data table notebook</a>'\n",
              "            + ' to learn more about interactive tables.';\n",
              "          element.innerHTML = '';\n",
              "          dataTable['output_type'] = 'display_data';\n",
              "          await google.colab.output.renderOutput(dataTable, element);\n",
              "          const docLink = document.createElement('div');\n",
              "          docLink.innerHTML = docLinkHtml;\n",
              "          element.appendChild(docLink);\n",
              "        }\n",
              "      </script>\n",
              "    </div>\n",
              "  </div>\n",
              "  "
            ],
            "text/plain": [
              "         Enlem   Boylam\n",
              "0      35.7380  24.8870\n",
              "1      36.4261  27.0918\n",
              "2      36.4461  27.1643\n",
              "3      37.5625  36.1321\n",
              "4      35.3220  32.8156\n",
              "...        ...      ...\n",
              "12196  38.1200  31.2900\n",
              "12197  37.8300  27.7100\n",
              "12198  37.6300  37.3700\n",
              "12199  39.5400  26.1400\n",
              "12200  37.7900  28.2100\n",
              "\n",
              "[12201 rows x 2 columns]"
            ]
          },
          "metadata": {},
          "execution_count": 41
        }
      ]
    },
    {
      "cell_type": "code",
      "source": [
        "mean = np.mean(concat,axis=1)\n",
        "mean"
      ],
      "metadata": {
        "colab": {
          "base_uri": "https://localhost:8080/"
        },
        "id": "sDQW_pkRd2bu",
        "outputId": "0c6c730c-7b15-48a8-9349-48af4309ddc7"
      },
      "execution_count": null,
      "outputs": [
        {
          "output_type": "execute_result",
          "data": {
            "text/plain": [
              "0        30.31250\n",
              "1        31.75895\n",
              "2        31.80520\n",
              "3        36.84730\n",
              "4        34.06880\n",
              "           ...   \n",
              "12196    34.70500\n",
              "12197    32.77000\n",
              "12198    37.50000\n",
              "12199    32.84000\n",
              "12200    33.00000\n",
              "Length: 12201, dtype: float64"
            ]
          },
          "metadata": {},
          "execution_count": 42
        }
      ]
    },
    {
      "cell_type": "code",
      "source": [
        "from scipy.stats import hmean\n",
        "\n",
        "hmean_data = hmean(concat, axis=1)\n",
        "hmean_data = pd.Series(hmean_data)\n",
        "hmean_data"
      ],
      "metadata": {
        "colab": {
          "base_uri": "https://localhost:8080/"
        },
        "id": "GDilqBr6fV3S",
        "outputId": "7c3891f6-7475-4f93-b611-cf43841de191"
      },
      "execution_count": null,
      "outputs": [
        {
          "output_type": "execute_result",
          "data": {
            "text/plain": [
              "0        29.341414\n",
              "1        31.073087\n",
              "2        31.128017\n",
              "3        36.833418\n",
              "4        34.022702\n",
              "           ...    \n",
              "12196    34.368961\n",
              "12197    31.988688\n",
              "12198    37.499549\n",
              "12199    31.473069\n",
              "12200    32.304724\n",
              "Length: 12201, dtype: float64"
            ]
          },
          "metadata": {},
          "execution_count": 55
        }
      ]
    },
    {
      "cell_type": "code",
      "source": [
        "std = np.std(concat, axis=1)\n",
        "std"
      ],
      "metadata": {
        "colab": {
          "base_uri": "https://localhost:8080/"
        },
        "id": "4n5Rm3jMitba",
        "outputId": "787095e4-3995-4929-b4f2-9f07317634e6"
      },
      "execution_count": null,
      "outputs": [
        {
          "output_type": "execute_result",
          "data": {
            "text/plain": [
              "0        5.42550\n",
              "1        4.66715\n",
              "2        4.64090\n",
              "3        0.71520\n",
              "4        1.25320\n",
              "          ...   \n",
              "12196    3.41500\n",
              "12197    5.06000\n",
              "12198    0.13000\n",
              "12199    6.70000\n",
              "12200    4.79000\n",
              "Length: 12201, dtype: float64"
            ]
          },
          "metadata": {},
          "execution_count": 63
        }
      ]
    },
    {
      "cell_type": "code",
      "source": [
        "var = np.var(concat, axis=1)\n",
        "var"
      ],
      "metadata": {
        "colab": {
          "base_uri": "https://localhost:8080/"
        },
        "id": "kdkitaysi34Y",
        "outputId": "8af69cf9-f0df-4049-9fcc-04d6a4d7ed6f"
      },
      "execution_count": null,
      "outputs": [
        {
          "output_type": "execute_result",
          "data": {
            "text/plain": [
              "0        29.436050\n",
              "1        21.782289\n",
              "2        21.537953\n",
              "3         0.511511\n",
              "4         1.570510\n",
              "           ...    \n",
              "12196    11.662225\n",
              "12197    25.603600\n",
              "12198     0.016900\n",
              "12199    44.890000\n",
              "12200    22.944100\n",
              "Length: 12201, dtype: float64"
            ]
          },
          "metadata": {},
          "execution_count": 64
        }
      ]
    },
    {
      "cell_type": "code",
      "source": [
        "ssq = np.sum(concat**2, axis=1)\n",
        "ssq"
      ],
      "metadata": {
        "colab": {
          "base_uri": "https://localhost:8080/"
        },
        "id": "p43s9ghujuld",
        "outputId": "1b2dbfde-8662-45c8-a990-b9a05ab846e1"
      },
      "execution_count": null,
      "outputs": [
        {
          "output_type": "execute_result",
          "data": {
            "text/plain": [
              "0        1896.567413\n",
              "1        2060.826388\n",
              "2        2066.217400\n",
              "3        2716.470057\n",
              "4        2324.507287\n",
              "            ...     \n",
              "12196    2432.198500\n",
              "12197    2198.953000\n",
              "12198    2812.533800\n",
              "12199    2246.711200\n",
              "12200    2223.888200\n",
              "Length: 12201, dtype: float64"
            ]
          },
          "metadata": {},
          "execution_count": 66
        }
      ]
    },
    {
      "cell_type": "code",
      "source": [
        "data_concat = pd.concat([concat,derinlik, mean, hmean_data, std, var, ssq], axis=1)\n",
        "data_concat"
      ],
      "metadata": {
        "colab": {
          "base_uri": "https://localhost:8080/",
          "height": 424
        },
        "id": "KAQOvJgsk06t",
        "outputId": "6e3f8a8c-5398-4fe5-efd4-54acc03ea909"
      },
      "execution_count": null,
      "outputs": [
        {
          "output_type": "execute_result",
          "data": {
            "text/html": [
              "\n",
              "  <div id=\"df-bf31391b-f312-49bc-b815-938c4672ec53\">\n",
              "    <div class=\"colab-df-container\">\n",
              "      <div>\n",
              "<style scoped>\n",
              "    .dataframe tbody tr th:only-of-type {\n",
              "        vertical-align: middle;\n",
              "    }\n",
              "\n",
              "    .dataframe tbody tr th {\n",
              "        vertical-align: top;\n",
              "    }\n",
              "\n",
              "    .dataframe thead th {\n",
              "        text-align: right;\n",
              "    }\n",
              "</style>\n",
              "<table border=\"1\" class=\"dataframe\">\n",
              "  <thead>\n",
              "    <tr style=\"text-align: right;\">\n",
              "      <th></th>\n",
              "      <th>Enlem</th>\n",
              "      <th>Boylam</th>\n",
              "      <th>Derinlik</th>\n",
              "      <th>0</th>\n",
              "      <th>1</th>\n",
              "      <th>2</th>\n",
              "      <th>3</th>\n",
              "      <th>4</th>\n",
              "    </tr>\n",
              "  </thead>\n",
              "  <tbody>\n",
              "    <tr>\n",
              "      <th>0</th>\n",
              "      <td>35.7380</td>\n",
              "      <td>24.8870</td>\n",
              "      <td>37.50</td>\n",
              "      <td>30.31250</td>\n",
              "      <td>29.341414</td>\n",
              "      <td>5.42550</td>\n",
              "      <td>29.436050</td>\n",
              "      <td>1896.567413</td>\n",
              "    </tr>\n",
              "    <tr>\n",
              "      <th>1</th>\n",
              "      <td>36.4261</td>\n",
              "      <td>27.0918</td>\n",
              "      <td>18.97</td>\n",
              "      <td>31.75895</td>\n",
              "      <td>31.073087</td>\n",
              "      <td>4.66715</td>\n",
              "      <td>21.782289</td>\n",
              "      <td>2060.826388</td>\n",
              "    </tr>\n",
              "    <tr>\n",
              "      <th>2</th>\n",
              "      <td>36.4461</td>\n",
              "      <td>27.1643</td>\n",
              "      <td>11.09</td>\n",
              "      <td>31.80520</td>\n",
              "      <td>31.128017</td>\n",
              "      <td>4.64090</td>\n",
              "      <td>21.537953</td>\n",
              "      <td>2066.217400</td>\n",
              "    </tr>\n",
              "    <tr>\n",
              "      <th>3</th>\n",
              "      <td>37.5625</td>\n",
              "      <td>36.1321</td>\n",
              "      <td>14.37</td>\n",
              "      <td>36.84730</td>\n",
              "      <td>36.833418</td>\n",
              "      <td>0.71520</td>\n",
              "      <td>0.511511</td>\n",
              "      <td>2716.470057</td>\n",
              "    </tr>\n",
              "    <tr>\n",
              "      <th>4</th>\n",
              "      <td>35.3220</td>\n",
              "      <td>32.8156</td>\n",
              "      <td>25.63</td>\n",
              "      <td>34.06880</td>\n",
              "      <td>34.022702</td>\n",
              "      <td>1.25320</td>\n",
              "      <td>1.570510</td>\n",
              "      <td>2324.507287</td>\n",
              "    </tr>\n",
              "    <tr>\n",
              "      <th>...</th>\n",
              "      <td>...</td>\n",
              "      <td>...</td>\n",
              "      <td>...</td>\n",
              "      <td>...</td>\n",
              "      <td>...</td>\n",
              "      <td>...</td>\n",
              "      <td>...</td>\n",
              "      <td>...</td>\n",
              "    </tr>\n",
              "    <tr>\n",
              "      <th>12196</th>\n",
              "      <td>38.1200</td>\n",
              "      <td>31.2900</td>\n",
              "      <td>10.00</td>\n",
              "      <td>34.70500</td>\n",
              "      <td>34.368961</td>\n",
              "      <td>3.41500</td>\n",
              "      <td>11.662225</td>\n",
              "      <td>2432.198500</td>\n",
              "    </tr>\n",
              "    <tr>\n",
              "      <th>12197</th>\n",
              "      <td>37.8300</td>\n",
              "      <td>27.7100</td>\n",
              "      <td>10.00</td>\n",
              "      <td>32.77000</td>\n",
              "      <td>31.988688</td>\n",
              "      <td>5.06000</td>\n",
              "      <td>25.603600</td>\n",
              "      <td>2198.953000</td>\n",
              "    </tr>\n",
              "    <tr>\n",
              "      <th>12198</th>\n",
              "      <td>37.6300</td>\n",
              "      <td>37.3700</td>\n",
              "      <td>10.00</td>\n",
              "      <td>37.50000</td>\n",
              "      <td>37.499549</td>\n",
              "      <td>0.13000</td>\n",
              "      <td>0.016900</td>\n",
              "      <td>2812.533800</td>\n",
              "    </tr>\n",
              "    <tr>\n",
              "      <th>12199</th>\n",
              "      <td>39.5400</td>\n",
              "      <td>26.1400</td>\n",
              "      <td>10.00</td>\n",
              "      <td>32.84000</td>\n",
              "      <td>31.473069</td>\n",
              "      <td>6.70000</td>\n",
              "      <td>44.890000</td>\n",
              "      <td>2246.711200</td>\n",
              "    </tr>\n",
              "    <tr>\n",
              "      <th>12200</th>\n",
              "      <td>37.7900</td>\n",
              "      <td>28.2100</td>\n",
              "      <td>10.00</td>\n",
              "      <td>33.00000</td>\n",
              "      <td>32.304724</td>\n",
              "      <td>4.79000</td>\n",
              "      <td>22.944100</td>\n",
              "      <td>2223.888200</td>\n",
              "    </tr>\n",
              "  </tbody>\n",
              "</table>\n",
              "<p>12201 rows × 8 columns</p>\n",
              "</div>\n",
              "      <button class=\"colab-df-convert\" onclick=\"convertToInteractive('df-bf31391b-f312-49bc-b815-938c4672ec53')\"\n",
              "              title=\"Convert this dataframe to an interactive table.\"\n",
              "              style=\"display:none;\">\n",
              "        \n",
              "  <svg xmlns=\"http://www.w3.org/2000/svg\" height=\"24px\"viewBox=\"0 0 24 24\"\n",
              "       width=\"24px\">\n",
              "    <path d=\"M0 0h24v24H0V0z\" fill=\"none\"/>\n",
              "    <path d=\"M18.56 5.44l.94 2.06.94-2.06 2.06-.94-2.06-.94-.94-2.06-.94 2.06-2.06.94zm-11 1L8.5 8.5l.94-2.06 2.06-.94-2.06-.94L8.5 2.5l-.94 2.06-2.06.94zm10 10l.94 2.06.94-2.06 2.06-.94-2.06-.94-.94-2.06-.94 2.06-2.06.94z\"/><path d=\"M17.41 7.96l-1.37-1.37c-.4-.4-.92-.59-1.43-.59-.52 0-1.04.2-1.43.59L10.3 9.45l-7.72 7.72c-.78.78-.78 2.05 0 2.83L4 21.41c.39.39.9.59 1.41.59.51 0 1.02-.2 1.41-.59l7.78-7.78 2.81-2.81c.8-.78.8-2.07 0-2.86zM5.41 20L4 18.59l7.72-7.72 1.47 1.35L5.41 20z\"/>\n",
              "  </svg>\n",
              "      </button>\n",
              "      \n",
              "  <style>\n",
              "    .colab-df-container {\n",
              "      display:flex;\n",
              "      flex-wrap:wrap;\n",
              "      gap: 12px;\n",
              "    }\n",
              "\n",
              "    .colab-df-convert {\n",
              "      background-color: #E8F0FE;\n",
              "      border: none;\n",
              "      border-radius: 50%;\n",
              "      cursor: pointer;\n",
              "      display: none;\n",
              "      fill: #1967D2;\n",
              "      height: 32px;\n",
              "      padding: 0 0 0 0;\n",
              "      width: 32px;\n",
              "    }\n",
              "\n",
              "    .colab-df-convert:hover {\n",
              "      background-color: #E2EBFA;\n",
              "      box-shadow: 0px 1px 2px rgba(60, 64, 67, 0.3), 0px 1px 3px 1px rgba(60, 64, 67, 0.15);\n",
              "      fill: #174EA6;\n",
              "    }\n",
              "\n",
              "    [theme=dark] .colab-df-convert {\n",
              "      background-color: #3B4455;\n",
              "      fill: #D2E3FC;\n",
              "    }\n",
              "\n",
              "    [theme=dark] .colab-df-convert:hover {\n",
              "      background-color: #434B5C;\n",
              "      box-shadow: 0px 1px 3px 1px rgba(0, 0, 0, 0.15);\n",
              "      filter: drop-shadow(0px 1px 2px rgba(0, 0, 0, 0.3));\n",
              "      fill: #FFFFFF;\n",
              "    }\n",
              "  </style>\n",
              "\n",
              "      <script>\n",
              "        const buttonEl =\n",
              "          document.querySelector('#df-bf31391b-f312-49bc-b815-938c4672ec53 button.colab-df-convert');\n",
              "        buttonEl.style.display =\n",
              "          google.colab.kernel.accessAllowed ? 'block' : 'none';\n",
              "\n",
              "        async function convertToInteractive(key) {\n",
              "          const element = document.querySelector('#df-bf31391b-f312-49bc-b815-938c4672ec53');\n",
              "          const dataTable =\n",
              "            await google.colab.kernel.invokeFunction('convertToInteractive',\n",
              "                                                     [key], {});\n",
              "          if (!dataTable) return;\n",
              "\n",
              "          const docLinkHtml = 'Like what you see? Visit the ' +\n",
              "            '<a target=\"_blank\" href=https://colab.research.google.com/notebooks/data_table.ipynb>data table notebook</a>'\n",
              "            + ' to learn more about interactive tables.';\n",
              "          element.innerHTML = '';\n",
              "          dataTable['output_type'] = 'display_data';\n",
              "          await google.colab.output.renderOutput(dataTable, element);\n",
              "          const docLink = document.createElement('div');\n",
              "          docLink.innerHTML = docLinkHtml;\n",
              "          element.appendChild(docLink);\n",
              "        }\n",
              "      </script>\n",
              "    </div>\n",
              "  </div>\n",
              "  "
            ],
            "text/plain": [
              "         Enlem   Boylam  Derinlik  ...        2          3            4\n",
              "0      35.7380  24.8870     37.50  ...  5.42550  29.436050  1896.567413\n",
              "1      36.4261  27.0918     18.97  ...  4.66715  21.782289  2060.826388\n",
              "2      36.4461  27.1643     11.09  ...  4.64090  21.537953  2066.217400\n",
              "3      37.5625  36.1321     14.37  ...  0.71520   0.511511  2716.470057\n",
              "4      35.3220  32.8156     25.63  ...  1.25320   1.570510  2324.507287\n",
              "...        ...      ...       ...  ...      ...        ...          ...\n",
              "12196  38.1200  31.2900     10.00  ...  3.41500  11.662225  2432.198500\n",
              "12197  37.8300  27.7100     10.00  ...  5.06000  25.603600  2198.953000\n",
              "12198  37.6300  37.3700     10.00  ...  0.13000   0.016900  2812.533800\n",
              "12199  39.5400  26.1400     10.00  ...  6.70000  44.890000  2246.711200\n",
              "12200  37.7900  28.2100     10.00  ...  4.79000  22.944100  2223.888200\n",
              "\n",
              "[12201 rows x 8 columns]"
            ]
          },
          "metadata": {},
          "execution_count": 72
        }
      ]
    },
    {
      "cell_type": "code",
      "source": [
        "data_label = büyüklük\n",
        "data_label"
      ],
      "metadata": {
        "colab": {
          "base_uri": "https://localhost:8080/"
        },
        "id": "bOud5wI0mCu_",
        "outputId": "86224afd-eb8b-4cd3-fc3f-97fb5afd6fab"
      },
      "execution_count": null,
      "outputs": [
        {
          "output_type": "execute_result",
          "data": {
            "text/plain": [
              "0        4.0\n",
              "1        4.1\n",
              "2        4.1\n",
              "3        4.2\n",
              "4        4.3\n",
              "        ... \n",
              "12196    5.7\n",
              "12197    4.4\n",
              "12198    4.8\n",
              "12199    5.2\n",
              "12200    4.4\n",
              "Name: Büyüklük, Length: 12201, dtype: float64"
            ]
          },
          "metadata": {},
          "execution_count": 73
        }
      ]
    },
    {
      "cell_type": "code",
      "source": [
        "import lightgbm\n",
        "print(lightgbm.__version__)"
      ],
      "metadata": {
        "colab": {
          "base_uri": "https://localhost:8080/"
        },
        "id": "fxYsKfIQmXty",
        "outputId": "137e4b8d-45af-4c17-9b39-e6834f284566"
      },
      "execution_count": null,
      "outputs": [
        {
          "output_type": "stream",
          "name": "stdout",
          "text": [
            "2.2.3\n"
          ]
        }
      ]
    },
    {
      "cell_type": "code",
      "source": [
        "print(data_concat.shape, data_label.shape)"
      ],
      "metadata": {
        "colab": {
          "base_uri": "https://localhost:8080/"
        },
        "id": "7yyD0PBUmdXW",
        "outputId": "b0e0c8ae-ea01-41c4-cf25-55870504a343"
      },
      "execution_count": null,
      "outputs": [
        {
          "output_type": "stream",
          "name": "stdout",
          "text": [
            "(12201, 8) (12201,)\n"
          ]
        }
      ]
    },
    {
      "cell_type": "code",
      "source": [
        "from sklearn.model_selection import train_test_split\n",
        "X_train, X_test, y_train, y_test = train_test_split(data_concat, data_label, test_size=0.2, random_state=42)"
      ],
      "metadata": {
        "id": "9saDZb2spblc"
      },
      "execution_count": null,
      "outputs": []
    },
    {
      "cell_type": "code",
      "source": [
        "X_train"
      ],
      "metadata": {
        "colab": {
          "base_uri": "https://localhost:8080/",
          "height": 424
        },
        "id": "CLeLyREqpnN7",
        "outputId": "9cb646e1-9b9c-4064-ebd7-a414fd6d0aa8"
      },
      "execution_count": null,
      "outputs": [
        {
          "output_type": "execute_result",
          "data": {
            "text/html": [
              "\n",
              "  <div id=\"df-a58b666d-c705-4840-bca1-b603bc0c702b\">\n",
              "    <div class=\"colab-df-container\">\n",
              "      <div>\n",
              "<style scoped>\n",
              "    .dataframe tbody tr th:only-of-type {\n",
              "        vertical-align: middle;\n",
              "    }\n",
              "\n",
              "    .dataframe tbody tr th {\n",
              "        vertical-align: top;\n",
              "    }\n",
              "\n",
              "    .dataframe thead th {\n",
              "        text-align: right;\n",
              "    }\n",
              "</style>\n",
              "<table border=\"1\" class=\"dataframe\">\n",
              "  <thead>\n",
              "    <tr style=\"text-align: right;\">\n",
              "      <th></th>\n",
              "      <th>Enlem</th>\n",
              "      <th>Boylam</th>\n",
              "      <th>Derinlik</th>\n",
              "      <th>0</th>\n",
              "      <th>1</th>\n",
              "      <th>2</th>\n",
              "      <th>3</th>\n",
              "      <th>4</th>\n",
              "    </tr>\n",
              "  </thead>\n",
              "  <tbody>\n",
              "    <tr>\n",
              "      <th>7588</th>\n",
              "      <td>34.5556</td>\n",
              "      <td>23.7302</td>\n",
              "      <td>14.40</td>\n",
              "      <td>29.14290</td>\n",
              "      <td>28.137601</td>\n",
              "      <td>5.41270</td>\n",
              "      <td>29.297321</td>\n",
              "      <td>1757.211883</td>\n",
              "    </tr>\n",
              "    <tr>\n",
              "      <th>5058</th>\n",
              "      <td>39.2204</td>\n",
              "      <td>23.7211</td>\n",
              "      <td>11.10</td>\n",
              "      <td>31.47075</td>\n",
              "      <td>29.562404</td>\n",
              "      <td>7.74965</td>\n",
              "      <td>60.057075</td>\n",
              "      <td>2100.930361</td>\n",
              "    </tr>\n",
              "    <tr>\n",
              "      <th>467</th>\n",
              "      <td>35.8936</td>\n",
              "      <td>27.6675</td>\n",
              "      <td>34.44</td>\n",
              "      <td>31.78055</td>\n",
              "      <td>31.248238</td>\n",
              "      <td>4.11305</td>\n",
              "      <td>16.917180</td>\n",
              "      <td>2053.841077</td>\n",
              "    </tr>\n",
              "    <tr>\n",
              "      <th>6398</th>\n",
              "      <td>34.6964</td>\n",
              "      <td>25.8895</td>\n",
              "      <td>10.00</td>\n",
              "      <td>30.29295</td>\n",
              "      <td>29.652855</td>\n",
              "      <td>4.40345</td>\n",
              "      <td>19.390372</td>\n",
              "      <td>1874.106383</td>\n",
              "    </tr>\n",
              "    <tr>\n",
              "      <th>8859</th>\n",
              "      <td>40.0645</td>\n",
              "      <td>44.4378</td>\n",
              "      <td>27.80</td>\n",
              "      <td>42.25115</td>\n",
              "      <td>42.137983</td>\n",
              "      <td>2.18665</td>\n",
              "      <td>4.781438</td>\n",
              "      <td>3579.882229</td>\n",
              "    </tr>\n",
              "    <tr>\n",
              "      <th>...</th>\n",
              "      <td>...</td>\n",
              "      <td>...</td>\n",
              "      <td>...</td>\n",
              "      <td>...</td>\n",
              "      <td>...</td>\n",
              "      <td>...</td>\n",
              "      <td>...</td>\n",
              "      <td>...</td>\n",
              "    </tr>\n",
              "    <tr>\n",
              "      <th>11964</th>\n",
              "      <td>41.5000</td>\n",
              "      <td>28.5000</td>\n",
              "      <td>10.00</td>\n",
              "      <td>35.00000</td>\n",
              "      <td>33.792857</td>\n",
              "      <td>6.50000</td>\n",
              "      <td>42.250000</td>\n",
              "      <td>2534.500000</td>\n",
              "    </tr>\n",
              "    <tr>\n",
              "      <th>5191</th>\n",
              "      <td>34.5520</td>\n",
              "      <td>32.0900</td>\n",
              "      <td>26.20</td>\n",
              "      <td>33.32100</td>\n",
              "      <td>33.275522</td>\n",
              "      <td>1.23100</td>\n",
              "      <td>1.515361</td>\n",
              "      <td>2223.608804</td>\n",
              "    </tr>\n",
              "    <tr>\n",
              "      <th>5390</th>\n",
              "      <td>39.4740</td>\n",
              "      <td>40.1520</td>\n",
              "      <td>73.80</td>\n",
              "      <td>39.81300</td>\n",
              "      <td>39.810113</td>\n",
              "      <td>0.33900</td>\n",
              "      <td>0.114921</td>\n",
              "      <td>3170.379780</td>\n",
              "    </tr>\n",
              "    <tr>\n",
              "      <th>860</th>\n",
              "      <td>38.6226</td>\n",
              "      <td>39.7938</td>\n",
              "      <td>16.60</td>\n",
              "      <td>39.20820</td>\n",
              "      <td>39.199454</td>\n",
              "      <td>0.58560</td>\n",
              "      <td>0.342927</td>\n",
              "      <td>3075.251749</td>\n",
              "    </tr>\n",
              "    <tr>\n",
              "      <th>7270</th>\n",
              "      <td>37.7923</td>\n",
              "      <td>28.4163</td>\n",
              "      <td>33.00</td>\n",
              "      <td>33.10430</td>\n",
              "      <td>32.440418</td>\n",
              "      <td>4.68800</td>\n",
              "      <td>21.977344</td>\n",
              "      <td>2235.744045</td>\n",
              "    </tr>\n",
              "  </tbody>\n",
              "</table>\n",
              "<p>9760 rows × 8 columns</p>\n",
              "</div>\n",
              "      <button class=\"colab-df-convert\" onclick=\"convertToInteractive('df-a58b666d-c705-4840-bca1-b603bc0c702b')\"\n",
              "              title=\"Convert this dataframe to an interactive table.\"\n",
              "              style=\"display:none;\">\n",
              "        \n",
              "  <svg xmlns=\"http://www.w3.org/2000/svg\" height=\"24px\"viewBox=\"0 0 24 24\"\n",
              "       width=\"24px\">\n",
              "    <path d=\"M0 0h24v24H0V0z\" fill=\"none\"/>\n",
              "    <path d=\"M18.56 5.44l.94 2.06.94-2.06 2.06-.94-2.06-.94-.94-2.06-.94 2.06-2.06.94zm-11 1L8.5 8.5l.94-2.06 2.06-.94-2.06-.94L8.5 2.5l-.94 2.06-2.06.94zm10 10l.94 2.06.94-2.06 2.06-.94-2.06-.94-.94-2.06-.94 2.06-2.06.94z\"/><path d=\"M17.41 7.96l-1.37-1.37c-.4-.4-.92-.59-1.43-.59-.52 0-1.04.2-1.43.59L10.3 9.45l-7.72 7.72c-.78.78-.78 2.05 0 2.83L4 21.41c.39.39.9.59 1.41.59.51 0 1.02-.2 1.41-.59l7.78-7.78 2.81-2.81c.8-.78.8-2.07 0-2.86zM5.41 20L4 18.59l7.72-7.72 1.47 1.35L5.41 20z\"/>\n",
              "  </svg>\n",
              "      </button>\n",
              "      \n",
              "  <style>\n",
              "    .colab-df-container {\n",
              "      display:flex;\n",
              "      flex-wrap:wrap;\n",
              "      gap: 12px;\n",
              "    }\n",
              "\n",
              "    .colab-df-convert {\n",
              "      background-color: #E8F0FE;\n",
              "      border: none;\n",
              "      border-radius: 50%;\n",
              "      cursor: pointer;\n",
              "      display: none;\n",
              "      fill: #1967D2;\n",
              "      height: 32px;\n",
              "      padding: 0 0 0 0;\n",
              "      width: 32px;\n",
              "    }\n",
              "\n",
              "    .colab-df-convert:hover {\n",
              "      background-color: #E2EBFA;\n",
              "      box-shadow: 0px 1px 2px rgba(60, 64, 67, 0.3), 0px 1px 3px 1px rgba(60, 64, 67, 0.15);\n",
              "      fill: #174EA6;\n",
              "    }\n",
              "\n",
              "    [theme=dark] .colab-df-convert {\n",
              "      background-color: #3B4455;\n",
              "      fill: #D2E3FC;\n",
              "    }\n",
              "\n",
              "    [theme=dark] .colab-df-convert:hover {\n",
              "      background-color: #434B5C;\n",
              "      box-shadow: 0px 1px 3px 1px rgba(0, 0, 0, 0.15);\n",
              "      filter: drop-shadow(0px 1px 2px rgba(0, 0, 0, 0.3));\n",
              "      fill: #FFFFFF;\n",
              "    }\n",
              "  </style>\n",
              "\n",
              "      <script>\n",
              "        const buttonEl =\n",
              "          document.querySelector('#df-a58b666d-c705-4840-bca1-b603bc0c702b button.colab-df-convert');\n",
              "        buttonEl.style.display =\n",
              "          google.colab.kernel.accessAllowed ? 'block' : 'none';\n",
              "\n",
              "        async function convertToInteractive(key) {\n",
              "          const element = document.querySelector('#df-a58b666d-c705-4840-bca1-b603bc0c702b');\n",
              "          const dataTable =\n",
              "            await google.colab.kernel.invokeFunction('convertToInteractive',\n",
              "                                                     [key], {});\n",
              "          if (!dataTable) return;\n",
              "\n",
              "          const docLinkHtml = 'Like what you see? Visit the ' +\n",
              "            '<a target=\"_blank\" href=https://colab.research.google.com/notebooks/data_table.ipynb>data table notebook</a>'\n",
              "            + ' to learn more about interactive tables.';\n",
              "          element.innerHTML = '';\n",
              "          dataTable['output_type'] = 'display_data';\n",
              "          await google.colab.output.renderOutput(dataTable, element);\n",
              "          const docLink = document.createElement('div');\n",
              "          docLink.innerHTML = docLinkHtml;\n",
              "          element.appendChild(docLink);\n",
              "        }\n",
              "      </script>\n",
              "    </div>\n",
              "  </div>\n",
              "  "
            ],
            "text/plain": [
              "         Enlem   Boylam  Derinlik  ...        2          3            4\n",
              "7588   34.5556  23.7302     14.40  ...  5.41270  29.297321  1757.211883\n",
              "5058   39.2204  23.7211     11.10  ...  7.74965  60.057075  2100.930361\n",
              "467    35.8936  27.6675     34.44  ...  4.11305  16.917180  2053.841077\n",
              "6398   34.6964  25.8895     10.00  ...  4.40345  19.390372  1874.106383\n",
              "8859   40.0645  44.4378     27.80  ...  2.18665   4.781438  3579.882229\n",
              "...        ...      ...       ...  ...      ...        ...          ...\n",
              "11964  41.5000  28.5000     10.00  ...  6.50000  42.250000  2534.500000\n",
              "5191   34.5520  32.0900     26.20  ...  1.23100   1.515361  2223.608804\n",
              "5390   39.4740  40.1520     73.80  ...  0.33900   0.114921  3170.379780\n",
              "860    38.6226  39.7938     16.60  ...  0.58560   0.342927  3075.251749\n",
              "7270   37.7923  28.4163     33.00  ...  4.68800  21.977344  2235.744045\n",
              "\n",
              "[9760 rows x 8 columns]"
            ]
          },
          "metadata": {},
          "execution_count": 88
        }
      ]
    },
    {
      "cell_type": "code",
      "source": [
        "y_train"
      ],
      "metadata": {
        "colab": {
          "base_uri": "https://localhost:8080/"
        },
        "id": "xGpCxCv3pqDR",
        "outputId": "a10ddb3e-af21-4aa1-9ef6-496c6e7941e3"
      },
      "execution_count": null,
      "outputs": [
        {
          "output_type": "execute_result",
          "data": {
            "text/plain": [
              "7588     4.1\n",
              "5058     4.5\n",
              "467      4.1\n",
              "6398     4.3\n",
              "8859     4.3\n",
              "        ... \n",
              "11964    4.8\n",
              "5191     4.2\n",
              "5390     5.2\n",
              "860      4.0\n",
              "7270     4.2\n",
              "Name: Büyüklük, Length: 9760, dtype: float64"
            ]
          },
          "metadata": {},
          "execution_count": 89
        }
      ]
    },
    {
      "cell_type": "code",
      "source": [
        "# evaluate lightgbm ensemble for regression\n",
        "from numpy import mean\n",
        "from numpy import std\n",
        "from sklearn.datasets import make_regression\n",
        "from sklearn.model_selection import cross_val_score\n",
        "from sklearn.model_selection import RepeatedKFold\n",
        "from lightgbm import LGBMRegressor"
      ],
      "metadata": {
        "id": "bPNlIcUqmn69"
      },
      "execution_count": null,
      "outputs": []
    },
    {
      "cell_type": "code",
      "source": [
        "model = LGBMRegressor()\n",
        "# evaluate the model\n",
        "cv = RepeatedKFold(n_splits=10, n_repeats=3, random_state=1)\n",
        "n_scores = cross_val_score(model, X_train, y_train, scoring='neg_root_mean_squared_error', cv=cv, n_jobs=-1, error_score='raise')\n",
        "# report performance\n",
        "print('RMSE: %.3f (%.3f)' % (mean(n_scores), std(n_scores)))"
      ],
      "metadata": {
        "colab": {
          "base_uri": "https://localhost:8080/"
        },
        "id": "yE7v845Gm1N8",
        "outputId": "fa8e36c7-fdaa-44c5-ecea-3271b5898e6d"
      },
      "execution_count": null,
      "outputs": [
        {
          "output_type": "stream",
          "name": "stdout",
          "text": [
            "RMSE: -0.454 (0.021)\n"
          ]
        }
      ]
    },
    {
      "cell_type": "code",
      "source": [
        "model.fit(X_train, y_train)"
      ],
      "metadata": {
        "colab": {
          "base_uri": "https://localhost:8080/"
        },
        "id": "Gqlfl13Wp4lh",
        "outputId": "1be60a58-ab9c-4483-badc-763a35087d80"
      },
      "execution_count": null,
      "outputs": [
        {
          "output_type": "execute_result",
          "data": {
            "text/plain": [
              "LGBMRegressor()"
            ]
          },
          "metadata": {},
          "execution_count": 92
        }
      ]
    },
    {
      "cell_type": "code",
      "source": [
        "pred = model.predict(X_test)\n",
        "pred"
      ],
      "metadata": {
        "colab": {
          "base_uri": "https://localhost:8080/"
        },
        "id": "eyFQy970qQgK",
        "outputId": "789af6f7-e393-4d16-86d7-d937165ddbce"
      },
      "execution_count": null,
      "outputs": [
        {
          "output_type": "execute_result",
          "data": {
            "text/plain": [
              "array([4.91155486, 4.34358464, 4.21339509, ..., 4.42857206, 4.39006547,\n",
              "       4.31902907])"
            ]
          },
          "metadata": {},
          "execution_count": 95
        }
      ]
    },
    {
      "cell_type": "code",
      "source": [
        "y_test"
      ],
      "metadata": {
        "colab": {
          "base_uri": "https://localhost:8080/"
        },
        "id": "AXo6TpH8qUZj",
        "outputId": "2cebfbe2-dea6-4dca-8d89-0168cb735bbe"
      },
      "execution_count": null,
      "outputs": [
        {
          "output_type": "execute_result",
          "data": {
            "text/plain": [
              "11089    5.0\n",
              "1562     4.6\n",
              "2046     4.4\n",
              "6310     4.4\n",
              "5304     4.4\n",
              "        ... \n",
              "5470     4.0\n",
              "4128     4.1\n",
              "2709     5.0\n",
              "11292    4.3\n",
              "3017     4.0\n",
              "Name: Büyüklük, Length: 2441, dtype: float64"
            ]
          },
          "metadata": {},
          "execution_count": 96
        }
      ]
    },
    {
      "cell_type": "code",
      "source": [
        "from sklearn.metrics import mean_squared_error\n",
        "\n",
        "rmse = mean_squared_error(y_test, pred, squared=False)\n",
        "rmse"
      ],
      "metadata": {
        "colab": {
          "base_uri": "https://localhost:8080/"
        },
        "id": "YM847nS3qf-_",
        "outputId": "d2101236-235b-44dd-82c4-6616558d3d7e"
      },
      "execution_count": null,
      "outputs": [
        {
          "output_type": "execute_result",
          "data": {
            "text/plain": [
              "0.43829125390172574"
            ]
          },
          "metadata": {},
          "execution_count": 98
        }
      ]
    }
  ]
}
