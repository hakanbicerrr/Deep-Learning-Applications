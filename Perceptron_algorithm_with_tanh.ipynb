{
  "nbformat": 4,
  "nbformat_minor": 0,
  "metadata": {
    "colab": {
      "name": "Untitled17.ipynb",
      "provenance": [],
      "collapsed_sections": []
    },
    "kernelspec": {
      "name": "python3",
      "display_name": "Python 3"
    },
    "language_info": {
      "name": "python"
    }
  },
  "cells": [
    {
      "cell_type": "code",
      "metadata": {
        "id": "_Zii6ROz_mv8"
      },
      "source": [
        "import os\n",
        "import cv2\n",
        "import numpy as np\n",
        "from sklearn.utils import shuffle"
      ],
      "execution_count": 73,
      "outputs": []
    },
    {
      "cell_type": "code",
      "metadata": {
        "colab": {
          "base_uri": "https://localhost:8080/"
        },
        "id": "eqnpmIAkCKOG",
        "outputId": "255353fc-fb2f-49bb-9118-ebeaa631b56d"
      },
      "source": [
        "label_train = []\n",
        "label = 0\n",
        "label_names = []\n",
        "training_data = []\n",
        "root_folder = \"drive/MyDrive/Deep_Learning/HW3/CaltechTiny/train/\"\n",
        "for foldername in os.listdir(root_folder):\n",
        "  print(\"Folder:\", foldername, \"Label:\", label)\n",
        "  for filename in os.listdir(root_folder + foldername):\n",
        "    if filename.endswith(\"jpg\"): \n",
        "        image = cv2.imread(os.path.join(root_folder,foldername,filename))\n",
        "        if image is not None:\n",
        "          image = cv2.resize(image,(64,64))  # Get images as 64x64x3.\n",
        "          image = image.ravel()   # Convert image into 1D array.\n",
        "          image = np.append(image, [1])  # Add 1 for bias.\n",
        "\n",
        "          training_data.append(image)\n",
        "          label_train.append(label)   \n",
        "  label += 1\n",
        "  label_names.append(foldername)\n",
        "# Check lengths are matched.\n",
        "t = label_train  # Target vector\n",
        "print(\"Number of images for train: \", len(label_train))\n",
        "print(\"Labels: \", label_names)\n",
        "print(\"Training Data Length:\", len(training_data))"
      ],
      "execution_count": 74,
      "outputs": [
        {
          "output_type": "stream",
          "name": "stdout",
          "text": [
            "Folder: cannon Label: 0\n",
            "Folder: cellphone Label: 1\n",
            "Number of images for train:  81\n",
            "Labels:  ['cannon', 'cellphone']\n",
            "Training Data Length: 81\n"
          ]
        }
      ]
    },
    {
      "cell_type": "code",
      "metadata": {
        "colab": {
          "base_uri": "https://localhost:8080/"
        },
        "id": "sHtefYra6If2",
        "outputId": "cf6b5245-e98e-4a73-ae2e-6fea8acf74dd"
      },
      "source": [
        "print(\"Training data sample:\", training_data[0])\n",
        "print(\"Length of training data sample:\", len(training_data[0]))"
      ],
      "execution_count": 75,
      "outputs": [
        {
          "output_type": "stream",
          "name": "stdout",
          "text": [
            "Training data sample: [ 34  27  42 ... 141 134   1]\n",
            "Length of training data sample: 12289\n"
          ]
        }
      ]
    },
    {
      "cell_type": "markdown",
      "metadata": {
        "id": "mYmbg6FNSdp3"
      },
      "source": [
        "Shuffle training data"
      ]
    },
    {
      "cell_type": "code",
      "metadata": {
        "id": "EjnyYP3DD7iG"
      },
      "source": [
        "training_data, t = shuffle(training_data, t)"
      ],
      "execution_count": 76,
      "outputs": []
    },
    {
      "cell_type": "markdown",
      "metadata": {
        "id": "oCfUab3KSxQT"
      },
      "source": [
        "Define important parameters"
      ]
    },
    {
      "cell_type": "code",
      "metadata": {
        "id": "u5CTL5o2NiPi"
      },
      "source": [
        "eta = 0.001  # Learning Rate\n",
        "iterNo = 1000"
      ],
      "execution_count": 77,
      "outputs": []
    },
    {
      "cell_type": "markdown",
      "metadata": {
        "id": "B8FmyBqjrcsu"
      },
      "source": [
        "Train Function"
      ]
    },
    {
      "cell_type": "code",
      "metadata": {
        "id": "1PgkAbgcWJAa"
      },
      "source": [
        "def trainPerceptron(inputs, t, weights, eta, iterNo):\n",
        "  print(\"Initial Weights:\", weights)\n",
        "  for j in range(iterNo):\n",
        "    miss_class = len(inputs)\n",
        "    for idx, sample in enumerate(inputs):\n",
        "      sum = np.dot(weights, sample)\n",
        "      y=np.tanh(sum)\n",
        "      if y<0:  # This block is for tanh function. If tanh generates -1, this means class is 0.\n",
        "        y=0\n",
        "      error = t[idx]-y\n",
        "      if error == 0:  # This controls convergence.\n",
        "        miss_class -= 1\n",
        "      weights += (eta * error * sample).ravel()\n",
        "    if miss_class == 0:\n",
        "      print(\"Number of iteration:\",j)\n",
        "      break\n",
        "  print(\"Last Updated Weights\", weights)\n",
        "  np.save('weights.npy', weights)"
      ],
      "execution_count": 78,
      "outputs": []
    },
    {
      "cell_type": "markdown",
      "metadata": {
        "id": "Rm21WBHnrmzm"
      },
      "source": [
        "Train Step"
      ]
    },
    {
      "cell_type": "code",
      "metadata": {
        "colab": {
          "base_uri": "https://localhost:8080/"
        },
        "id": "wT7u8A53WuKl",
        "outputId": "9b38a0d9-0c7c-4768-9501-19c8877b1e28"
      },
      "source": [
        "np.random.seed(0)\n",
        "weights = np.random.uniform(low=0,high=0.1,size=(np.size(training_data[0]),))  # Generate random weights in range 0 and 0.1.\n",
        "print(\"Length of weights:\", len(weights))\n",
        "trainPerceptron(training_data, t, weights, eta, iterNo)\n",
        "weights = np.load('weights.npy')"
      ],
      "execution_count": 79,
      "outputs": [
        {
          "output_type": "stream",
          "name": "stdout",
          "text": [
            "Length of weights: 12289\n",
            "Initial Weights: [0.05488135 0.07151894 0.06027634 ... 0.06040028 0.07720906 0.0328423 ]\n",
            "Number of iteration: 3\n",
            "Last Updated Weights [-1.29611865 -1.12348106 -0.99572366 ... -0.96959972 -1.05379094\n",
            "  0.0338423 ]\n"
          ]
        }
      ]
    },
    {
      "cell_type": "markdown",
      "metadata": {
        "id": "f7_IwxEwrWnM"
      },
      "source": [
        "Read Test Images"
      ]
    },
    {
      "cell_type": "code",
      "metadata": {
        "colab": {
          "base_uri": "https://localhost:8080/"
        },
        "id": "ovTTFZzxUOeU",
        "outputId": "7f16a63c-869f-465d-b434-bb4cacb329d7"
      },
      "source": [
        "label_test = []\n",
        "label = 0\n",
        "label_names_test = []\n",
        "test_data = []\n",
        "root_folder = \"drive/MyDrive/Deep_Learning/HW3/CaltechTiny/test/\"\n",
        "for foldername in os.listdir(root_folder):\n",
        "  print(\"Folder:\", foldername, \"Label:\", label)\n",
        "  for filename in os.listdir(root_folder + foldername):\n",
        "    if filename.endswith(\"jpg\"): \n",
        "        image = cv2.imread(os.path.join(root_folder,foldername,filename))\n",
        "        if image is not None:\n",
        "          image = cv2.resize(image,(64,64))  # Get images as 64x64x3.\n",
        "          image = image.ravel()   # Convert image into 1D array.\n",
        "          image = np.append(image, [1])  # Add 1 for bias.\n",
        "\n",
        "          test_data.append(image)\n",
        "          label_test.append(label)   \n",
        "  label += 1\n",
        "  label_names_test.append(foldername)\n",
        "# Check lengths are matched.\n",
        "t_test = label_test  # Target vector\n",
        "print(\"Number of images for test: \", len(label_test))\n",
        "print(\"Labels: \", label_names_test)\n",
        "print(\"Test Data Length:\", len(test_data))"
      ],
      "execution_count": 80,
      "outputs": [
        {
          "output_type": "stream",
          "name": "stdout",
          "text": [
            "Folder: cannon Label: 0\n",
            "Folder: cellphone Label: 1\n",
            "Number of images for test:  12\n",
            "Labels:  ['cannon', 'cellphone']\n",
            "Test Data Length: 12\n"
          ]
        }
      ]
    },
    {
      "cell_type": "markdown",
      "metadata": {
        "id": "d-i0soM3rNKE"
      },
      "source": [
        "Test Function"
      ]
    },
    {
      "cell_type": "code",
      "metadata": {
        "id": "Ab0j-jWgqDgd"
      },
      "source": [
        "def testPerceptron(sample_test, weights):\n",
        "  sum = np.dot(weights, sample_test)\n",
        "  pred = np.tanh(sum)\n",
        "  if pred<0:\n",
        "    pred=0\n",
        "  print(pred)\n",
        "  if pred == 0:\n",
        "    print(\"Predicted: cannon\")\n",
        "  else:\n",
        "    print(\"Predicted: cellphone\")\n"
      ],
      "execution_count": 81,
      "outputs": []
    },
    {
      "cell_type": "markdown",
      "metadata": {
        "id": "Bq_sQgqNrTUh"
      },
      "source": [
        "Test Step"
      ]
    },
    {
      "cell_type": "code",
      "metadata": {
        "colab": {
          "base_uri": "https://localhost:8080/"
        },
        "id": "gVlRXvTyqp9k",
        "outputId": "492f1c62-ded9-46fd-c456-6912e39c596c"
      },
      "source": [
        "for idx, sample in enumerate(test_data):\n",
        "  testPerceptron(sample, weights)\n",
        "  if label_test[idx]==0:\n",
        "    print(\"True label: cannon\")\n",
        "    print(\"*********\")\n",
        "  else:\n",
        "    print(\"True label: cellphone\")\n",
        "    print(\"*********\")"
      ],
      "execution_count": 82,
      "outputs": [
        {
          "output_type": "stream",
          "name": "stdout",
          "text": [
            "0\n",
            "Predicted: cannon\n",
            "True label: cannon\n",
            "*********\n",
            "0\n",
            "Predicted: cannon\n",
            "True label: cannon\n",
            "*********\n",
            "0\n",
            "Predicted: cannon\n",
            "True label: cannon\n",
            "*********\n",
            "0\n",
            "Predicted: cannon\n",
            "True label: cannon\n",
            "*********\n",
            "0\n",
            "Predicted: cannon\n",
            "True label: cannon\n",
            "*********\n",
            "1.0\n",
            "Predicted: cellphone\n",
            "True label: cellphone\n",
            "*********\n",
            "1.0\n",
            "Predicted: cellphone\n",
            "True label: cellphone\n",
            "*********\n",
            "1.0\n",
            "Predicted: cellphone\n",
            "True label: cellphone\n",
            "*********\n",
            "1.0\n",
            "Predicted: cellphone\n",
            "True label: cellphone\n",
            "*********\n",
            "1.0\n",
            "Predicted: cellphone\n",
            "True label: cellphone\n",
            "*********\n",
            "1.0\n",
            "Predicted: cellphone\n",
            "True label: cellphone\n",
            "*********\n",
            "1.0\n",
            "Predicted: cellphone\n",
            "True label: cellphone\n",
            "*********\n"
          ]
        }
      ]
    }
  ]
}
